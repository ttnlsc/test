{
 "cells": [
  {
   "cell_type": "code",
   "execution_count": 8,
   "id": "8e9351b8-83f7-4372-b93d-90a72a1d52b8",
   "metadata": {},
   "outputs": [],
   "source": [
    "import numpy as np\n",
    "import matplotlib.pyplot as plt\n",
    "import os\n",
    "import math\n",
    "import pandas as pd"
   ]
  },
  {
   "cell_type": "code",
   "execution_count": 2,
   "id": "76a44774-c7b6-4ba7-9623-4b9c6126e039",
   "metadata": {},
   "outputs": [],
   "source": [
    "folder = 'cover'"
   ]
  },
  {
   "cell_type": "code",
   "execution_count": 32,
   "id": "916994e6-f9aa-404d-a3ca-a823d67341d4",
   "metadata": {},
   "outputs": [
    {
     "name": "stdout",
     "output_type": "stream",
     "text": [
      "3760_S66_L001_coverage.txt \t 0.97\n",
      "4133_S70_L001_coverage.txt \t 0.99\n",
      "4195_S71_L001_coverage.txt \t 0.38\n",
      "4196_S58_L001_coverage.txt \t 0.97\n",
      "4207_S80_L001_coverage.txt \t 0.98\n",
      "4222_S82_L001_coverage.txt \t 0.99\n",
      "4229_S75_L001_coverage.txt \t 0.81\n",
      "4256_S2_L001_coverage.txt \t 0.97\n",
      "4257_S69_L001_coverage.txt \t 0.96\n",
      "4258_S63_L001_coverage.txt \t 0.99\n",
      "4286_S1_L001_coverage.txt \t 0.97\n",
      "4428_S72_L001_coverage.txt \t 0.96\n",
      "4435_S68_L001_coverage.txt \t 0.94\n",
      "4471_S55_L001_coverage.txt \t 0.94\n",
      "4494_S67_L001_coverage.txt \t 0.96\n",
      "4518_S59_L001_coverage.txt \t 0.97\n",
      "4524_S79_L001_coverage.txt \t 0.74\n",
      "4532_S81_L001_coverage.txt \t 0.96\n",
      "4533_S76_L001_coverage.txt \t 0.75\n",
      "4535_S4_L001_coverage.txt \t 0.97\n",
      "4539_S65_L001_coverage.txt \t 0.99\n",
      "4544_S28_L001_coverage.txt \t 0.96\n",
      "4545_S41_L001_coverage.txt \t 0.96\n",
      "4546_S42_L001_coverage.txt \t 0.96\n",
      "4547_S43_L001_coverage.txt \t 0.97\n",
      "4548_S44_L001_coverage.txt \t 0.96\n",
      "4549_S45_L001_coverage.txt \t 0.96\n",
      "4550_S46_L001_coverage.txt \t 0.96\n",
      "4632_S60_L001_coverage.txt \t 0.97\n",
      "4694_S62_L001_coverage.txt \t 0.96\n",
      "4758_S3_L001_coverage.txt \t 0.97\n",
      "4760_S74_L001_coverage.txt \t 0.96\n",
      "4762_S5_L001_coverage.txt \t 0.97\n",
      "4763_S6_L001_coverage.txt \t 0.97\n",
      "4766_S7_L001_coverage.txt \t 0.97\n",
      "4767_S8_L001_coverage.txt \t 0.96\n",
      "4772_S9_L001_coverage.txt \t 0.96\n",
      "4774_S10_L001_coverage.txt \t 0.96\n",
      "4775_S11_L001_coverage.txt \t 0.96\n",
      "4792_S12_L001_coverage.txt \t 0.97\n",
      "4797_S13_L001_coverage.txt \t 0.95\n",
      "4799_S14_L001_coverage.txt \t 0.96\n",
      "4800_S15_L001_coverage.txt \t 0.96\n",
      "4801_S16_L001_coverage.txt \t 0.96\n",
      "4803_S17_L001_coverage.txt \t 0.96\n",
      "4813_S61_L001_coverage.txt \t 0.97\n",
      "4815_S18_L001_coverage.txt \t 0.96\n",
      "4831_S19_L001_coverage.txt \t 0.96\n",
      "4832_S20_L001_coverage.txt \t 0.96\n",
      "4833_S21_L001_coverage.txt \t 0.96\n",
      "4834_S73_L001_coverage.txt \t 0.98\n",
      "4838_S22_L001_coverage.txt \t 0.96\n",
      "4839_S78_L001_coverage.txt \t 0.96\n",
      "4843_S77_L001_coverage.txt \t 0.99\n",
      "4851_S23_L001_coverage.txt \t 0.97\n",
      "4852_S24_L001_coverage.txt \t 0.99\n",
      "4865_S25_L001_coverage.txt \t 0.99\n",
      "4867_S26_L001_coverage.txt \t 0.96\n",
      "4876_S29_L001_coverage.txt \t 0.97\n",
      "4877_S30_L001_coverage.txt \t 0.97\n",
      "4878_S31_L001_coverage.txt \t 0.96\n",
      "4882_S32_L001_coverage.txt \t 0.97\n",
      "4890_S33_L001_coverage.txt \t 0.97\n",
      "4892_S39_L001_coverage.txt \t 0.96\n",
      "4893_S64_L001_coverage.txt \t 0.98\n",
      "4894_S34_L001_coverage.txt \t 0.96\n",
      "4901_S35_L001_coverage.txt \t 0.97\n",
      "4905_S37_L001_coverage.txt \t 0.97\n",
      "4909_S38_L001_coverage.txt \t 0.96\n",
      "4915_S47_L001_coverage.txt \t 0.96\n",
      "4918_S53_L001_coverage.txt \t 0.97\n",
      "4947_S40_L001_coverage.txt \t 0.97\n",
      "4954_S48_L001_coverage.txt \t 0.96\n",
      "4955_S49_L001_coverage.txt \t 0.96\n",
      "4956_S50_L001_coverage.txt \t 0.96\n",
      "4957_S51_L001_coverage.txt \t 0.96\n",
      "4958_S52_L001_coverage.txt \t 0.96\n",
      "4966_S54_L001_coverage.txt \t 0.96\n",
      "4975_S56_L001_coverage.txt \t 0.95\n",
      "4981_S57_L001_coverage.txt \t 0.96\n",
      "5025_S36_L001_coverage.txt \t 0.96\n",
      "5102_S27_L001_coverage.txt \t 0.97\n"
     ]
    }
   ],
   "source": [
    "for file in os.listdir(folder):\n",
    "    if file.endswith('.txt'):\n",
    "        path = os.path.join(folder, file)\n",
    "        df = pd.read_csv(path, sep='\\t')\n",
    "        num_amplicons = len(df['mean_coverage'])\n",
    "        num_amplicons_200 = (df['mean_coverage'] > 200).sum()\n",
    "        coverage_fraction = round((num_amplicons_200 / num_amplicons), 2)\n",
    "        print(file, '\\t', coverage_fraction)"
   ]
  }
 ],
 "metadata": {
  "kernelspec": {
   "display_name": "Python 3 (ipykernel)",
   "language": "python",
   "name": "python3"
  },
  "language_info": {
   "codemirror_mode": {
    "name": "ipython",
    "version": 3
   },
   "file_extension": ".py",
   "mimetype": "text/x-python",
   "name": "python",
   "nbconvert_exporter": "python",
   "pygments_lexer": "ipython3",
   "version": "3.10.9"
  }
 },
 "nbformat": 4,
 "nbformat_minor": 5
}
